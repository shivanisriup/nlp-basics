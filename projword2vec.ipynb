{
 "cells": [
  {
   "cell_type": "code",
   "execution_count": 30,
   "metadata": {},
   "outputs": [],
   "source": [
    "import nltk\n",
    "import re\n",
    "from nltk.corpus import stopwords"
   ]
  },
  {
   "cell_type": "code",
   "execution_count": 31,
   "metadata": {},
   "outputs": [],
   "source": [
    "from gensim.models import Word2Vec\n",
    "from nltk.stem.porter import PorterStemmer\n",
    "from nltk.stem import WordNetLemmatizer"
   ]
  },
  {
   "cell_type": "code",
   "execution_count": 32,
   "metadata": {},
   "outputs": [],
   "source": [
    "paragraph=\"\"\"The Indian Space Research Organisation (ISRO, /ˈɪsroʊ/) (Hindi; IAST: bhārtīya antrikṣ anusandhān saṅgṭhan) is the space agency of the Government of India and has its headquarters in the city of Bengaluru. Its vision is to \"harness space technology for national development while pursuing space science research & planetary exploration\".[7] The Indian National Committee for Space Research (INCOSPAR) was established in the tenure of Jawaharlal Nehru[8][9][10][11][12] under the Department of Atomic Energy (DAE) in 1962, with the urging of scientist Vikram Sarabhai recognizing the need in space research. INCOSPAR grew and became ISRO in 1969,[13] also under the DAE.[14][15] In 1972, Government of India had setup a Space Commission and the Department of Space (DOS),[16] bringing ISRO under the DOS. The establishment of ISRO thus institutionalized space research activities in India.[17] It is managed by the DOS, which reports to the prime minister of India.[18]\n",
    "\n",
    "ISRO built India's first satellite, Aryabhata, which was launched by the Soviet Union on 19 April 1975.[19] It was named after the mathematician Aryabhata. In 1980, Rohini became the first satellite to be placed in orbit by an Indian-made launch vehicle, SLV-3. ISRO subsequently developed two other rockets: the Polar Satellite Launch Vehicle (PSLV) for launching satellites into polar orbits and the Geosynchronous Satellite Launch Vehicle (GSLV) for placing satellites into geostationary orbits. These rockets have launched numerous communications satellites and Earth observation satellites. Satellite navigation systems like GAGAN and IRNSS have been deployed. In January 2014, ISRO used an indigenous cryogenic engine in a GSLV-D5 launch of the GSAT-14.[20][21]\n",
    "\n",
    "ISRO sent a lunar orbiter, Chandrayaan-1, on 22 October 2008, which discovered lunar water in the form of ice,[22] and the Mars Orbiter Mission, on 5 November 2013, which entered Mars orbit on 24 September 2014, making India the first nation to succeed on its maiden attempt to Mars, as well as the first space agency in Asia to reach Mars orbit.[23] On 18 June 2016, ISRO launched twenty satellites in a single vehicle,[24] and on 15 February 2017, ISRO launched one hundred and four satellites in a single rocket (PSLV-C37), a world record.[25][26] ISRO launched its heaviest rocket, Geosynchronous Satellite Launch Vehicle-Mark III (GSLV-Mk III), on 5 June 2017 and placed a communications satellite GSAT-19 in orbit. With this launch, ISRO became capable of launching 4-ton heavy satellites into GTO. On 22 July 2019, ISRO launched its second lunar mission Chandrayaan-2 to study the lunar geology and the distribution of lunar water.\"\"\""
   ]
  },
  {
   "cell_type": "code",
   "execution_count": 33,
   "metadata": {},
   "outputs": [
    {
     "data": {
      "text/plain": [
       "'The Indian Space Research Organisation (ISRO, /ˈɪsroʊ/) (Hindi; IAST: bhārtīya antrikṣ anusandhān saṅgṭhan) is the space agency of the Government of India and has its headquarters in the city of Bengaluru. Its vision is to \"harness space technology for national development while pursuing space science research & planetary exploration\".[7] The Indian National Committee for Space Research (INCOSPAR) was established in the tenure of Jawaharlal Nehru[8][9][10][11][12] under the Department of Atomic Energy (DAE) in 1962, with the urging of scientist Vikram Sarabhai recognizing the need in space research. INCOSPAR grew and became ISRO in 1969,[13] also under the DAE.[14][15] In 1972, Government of India had setup a Space Commission and the Department of Space (DOS),[16] bringing ISRO under the DOS. The establishment of ISRO thus institutionalized space research activities in India.[17] It is managed by the DOS, which reports to the prime minister of India.[18]\\n\\nISRO built India\\'s first satellite, Aryabhata, which was launched by the Soviet Union on 19 April 1975.[19] It was named after the mathematician Aryabhata. In 1980, Rohini became the first satellite to be placed in orbit by an Indian-made launch vehicle, SLV-3. ISRO subsequently developed two other rockets: the Polar Satellite Launch Vehicle (PSLV) for launching satellites into polar orbits and the Geosynchronous Satellite Launch Vehicle (GSLV) for placing satellites into geostationary orbits. These rockets have launched numerous communications satellites and Earth observation satellites. Satellite navigation systems like GAGAN and IRNSS have been deployed. In January 2014, ISRO used an indigenous cryogenic engine in a GSLV-D5 launch of the GSAT-14.[20][21]\\n\\nISRO sent a lunar orbiter, Chandrayaan-1, on 22 October 2008, which discovered lunar water in the form of ice,[22] and the Mars Orbiter Mission, on 5 November 2013, which entered Mars orbit on 24 September 2014, making India the first nation to succeed on its maiden attempt to Mars, as well as the first space agency in Asia to reach Mars orbit.[23] On 18 June 2016, ISRO launched twenty satellites in a single vehicle,[24] and on 15 February 2017, ISRO launched one hundred and four satellites in a single rocket (PSLV-C37), a world record.[25][26] ISRO launched its heaviest rocket, Geosynchronous Satellite Launch Vehicle-Mark III (GSLV-Mk III), on 5 June 2017 and placed a communications satellite GSAT-19 in orbit. With this launch, ISRO became capable of launching 4-ton heavy satellites into GTO. On 22 July 2019, ISRO launched its second lunar mission Chandrayaan-2 to study the lunar geology and the distribution of lunar water.'"
      ]
     },
     "execution_count": 33,
     "metadata": {},
     "output_type": "execute_result"
    }
   ],
   "source": [
    "paragraph"
   ]
  },
  {
   "cell_type": "code",
   "execution_count": 34,
   "metadata": {},
   "outputs": [],
   "source": [
    "text=re.sub(r'\\([0-9]*\\)',' ',paragraph)\n",
    "text=re.sub(r'\\s+',' ',text)\n",
    "text=text.lower()\n",
    "text=re.sub(r'\\d',' ',text)\n",
    "text=re.sub(r'\\s',' ',text)"
   ]
  },
  {
   "cell_type": "code",
   "execution_count": 35,
   "metadata": {},
   "outputs": [
    {
     "name": "stdout",
     "output_type": "stream",
     "text": [
      "['The Indian Space Research Organisation (ISRO, /ˈɪsroʊ/) (Hindi; IAST: bhārtīya antrikṣ anusandhān saṅgṭhan) is the space agency of the Government of India and has its headquarters in the city of Bengaluru.', 'Its vision is to \"harness space technology for national development while pursuing space science research & planetary exploration\".', '[7] The Indian National Committee for Space Research (INCOSPAR) was established in the tenure of Jawaharlal Nehru[8][9][10][11][12] under the Department of Atomic Energy (DAE) in 1962, with the urging of scientist Vikram Sarabhai recognizing the need in space research.', 'INCOSPAR grew and became ISRO in 1969,[13] also under the DAE.', '[14][15] In 1972, Government of India had setup a Space Commission and the Department of Space (DOS),[16] bringing ISRO under the DOS.', 'The establishment of ISRO thus institutionalized space research activities in India.', '[17] It is managed by the DOS, which reports to the prime minister of India.', \"[18]\\n\\nISRO built India's first satellite, Aryabhata, which was launched by the Soviet Union on 19 April 1975.\", '[19] It was named after the mathematician Aryabhata.', 'In 1980, Rohini became the first satellite to be placed in orbit by an Indian-made launch vehicle, SLV-3.', 'ISRO subsequently developed two other rockets: the Polar Satellite Launch Vehicle (PSLV) for launching satellites into polar orbits and the Geosynchronous Satellite Launch Vehicle (GSLV) for placing satellites into geostationary orbits.', 'These rockets have launched numerous communications satellites and Earth observation satellites.', 'Satellite navigation systems like GAGAN and IRNSS have been deployed.', 'In January 2014, ISRO used an indigenous cryogenic engine in a GSLV-D5 launch of the GSAT-14.', '[20][21]\\n\\nISRO sent a lunar orbiter, Chandrayaan-1, on 22 October 2008, which discovered lunar water in the form of ice,[22] and the Mars Orbiter Mission, on 5 November 2013, which entered Mars orbit on 24 September 2014, making India the first nation to succeed on its maiden attempt to Mars, as well as the first space agency in Asia to reach Mars orbit.', '[23] On 18 June 2016, ISRO launched twenty satellites in a single vehicle,[24] and on 15 February 2017, ISRO launched one hundred and four satellites in a single rocket (PSLV-C37), a world record.', '[25][26] ISRO launched its heaviest rocket, Geosynchronous Satellite Launch Vehicle-Mark III (GSLV-Mk III), on 5 June 2017 and placed a communications satellite GSAT-19 in orbit.', 'With this launch, ISRO became capable of launching 4-ton heavy satellites into GTO.', 'On 22 July 2019, ISRO launched its second lunar mission Chandrayaan-2 to study the lunar geology and the distribution of lunar water.']\n"
     ]
    }
   ],
   "source": [
    "sentences=nltk.sent_tokenize(paragraph)\n",
    "print(sentences)"
   ]
  },
  {
   "cell_type": "code",
   "execution_count": 36,
   "metadata": {},
   "outputs": [],
   "source": [
    "sentences=[nltk.word_tokenize(sentence) for sentence in sentences]"
   ]
  },
  {
   "cell_type": "code",
   "execution_count": 37,
   "metadata": {},
   "outputs": [
    {
     "name": "stdout",
     "output_type": "stream",
     "text": [
      "['On', '22', 'July', '2019', ',', 'ISRO', 'launched', 'second', 'lunar', 'mission', 'Chandrayaan-2', 'study', 'lunar', 'geology', 'distribution', 'lunar', 'water', '.']\n"
     ]
    }
   ],
   "source": [
    "for i in range(len(sentences)):\n",
    "    sentences[i]=[word for word in sentences[i] if word not in stopwords.words('english')]\n",
    "print(sentences[i])"
   ]
  },
  {
   "cell_type": "code",
   "execution_count": 38,
   "metadata": {},
   "outputs": [
    {
     "name": "stdout",
     "output_type": "stream",
     "text": [
      "Word2Vec(vocab=213, size=100, alpha=0.025)\n"
     ]
    }
   ],
   "source": [
    "model=Word2Vec(sentences,min_count=1)\n",
    "print(model)"
   ]
  },
  {
   "cell_type": "code",
   "execution_count": 39,
   "metadata": {},
   "outputs": [],
   "source": [
    "words=model.wv.vocab"
   ]
  },
  {
   "cell_type": "code",
   "execution_count": 40,
   "metadata": {},
   "outputs": [
    {
     "name": "stdout",
     "output_type": "stream",
     "text": [
      "[-8.0630230e-04 -4.6037333e-03  3.4623893e-03 -3.0295011e-03\n",
      "  5.2925432e-04 -4.4140778e-03  4.2235269e-03  4.5580356e-03\n",
      " -4.6930835e-03 -1.2355326e-03 -1.8795833e-03  2.3351845e-03\n",
      "  2.4649920e-03 -5.0054141e-03 -3.9855945e-03  2.8554555e-03\n",
      "  4.4363285e-03  2.8067671e-03 -4.2732158e-03 -9.1596635e-04\n",
      " -2.2576626e-03  3.0152490e-03  4.3723844e-03  2.0801099e-03\n",
      " -3.7730976e-03  2.9095309e-03  4.8727826e-03 -3.9990903e-03\n",
      " -4.2701769e-03 -4.2887521e-03  3.4204025e-03  1.8741700e-03\n",
      " -3.8978781e-04 -2.8624856e-03  2.2014489e-03 -3.3442175e-03\n",
      " -5.1470092e-03  4.3727597e-03  2.7792731e-03  4.3180138e-03\n",
      " -4.2477192e-04  3.4416396e-05  2.0296008e-03 -5.1052561e-03\n",
      "  5.8650452e-04 -3.7956629e-03  4.5411987e-03  3.4157245e-03\n",
      " -1.2322004e-03 -1.8924932e-03  6.8625156e-04  1.5815939e-03\n",
      "  5.0639282e-03 -4.1672410e-04 -4.6755024e-03 -4.5716087e-03\n",
      " -4.5167846e-03 -4.8250491e-03  1.7034296e-03  1.4528400e-03\n",
      " -1.5933057e-03  2.9700671e-03 -3.5304045e-03 -9.5474528e-04\n",
      "  2.3941718e-06  1.8218362e-03  4.0743533e-03  7.0852134e-04\n",
      " -4.7598719e-03  1.5470239e-03  3.1190484e-03 -1.5915638e-03\n",
      " -5.1918831e-03 -2.2747447e-03 -1.1367610e-03 -5.3282455e-04\n",
      " -2.3407885e-03 -2.0216028e-03  2.1438152e-03  4.6363880e-04\n",
      "  2.9051837e-03  4.8392052e-03 -1.6947601e-03  4.1916771e-03\n",
      "  4.7419211e-03 -1.7349279e-03  1.0279951e-03  4.9819174e-04\n",
      "  1.9945777e-03  3.1215085e-03 -1.8167163e-03 -2.3713619e-03\n",
      " -2.6130176e-03 -2.7031279e-03 -4.3944903e-03 -4.0670304e-04\n",
      "  1.2630278e-03 -2.2421535e-05 -4.4590067e-03  9.6300943e-04]\n"
     ]
    }
   ],
   "source": [
    "vector=model.wv['ISRO']\n",
    "print(vector)"
   ]
  },
  {
   "cell_type": "code",
   "execution_count": 41,
   "metadata": {},
   "outputs": [
    {
     "name": "stdout",
     "output_type": "stream",
     "text": [
      "[('satellite', 0.3737618029117584), ('Aryabhata', 0.26260650157928467), ('well', 0.2626004219055176), ('Committee', 0.2375471591949463), ('[', 0.21915742754936218), ('1972', 0.19768206775188446), ('SLV-3', 0.1975342035293579), ('November', 0.18880002200603485), ('activities', 0.18700556457042694), ('satellites', 0.1745786815881729)]\n"
     ]
    }
   ],
   "source": [
    "similar=model.wv.most_similar('lunar')\n",
    "print(similar)"
   ]
  },
  {
   "cell_type": "code",
   "execution_count": 42,
   "metadata": {},
   "outputs": [
    {
     "name": "stdout",
     "output_type": "stream",
     "text": [
      "[('Energy', 0.29037174582481384), ('managed', 0.2306109368801117), ('Department', 0.22351163625717163), ('communications', 0.22169730067253113), ('distribution', 0.2105933427810669), ('succeed', 0.19653192162513733), ('heavy', 0.19059431552886963), ('Geosynchronous', 0.18783654272556305), (';', 0.18589214980602264), ('Chandrayaan-2', 0.18055564165115356)]\n"
     ]
    }
   ],
   "source": [
    "similar=model.wv.most_similar('ISRO')\n",
    "print(similar)"
   ]
  },
  {
   "cell_type": "code",
   "execution_count": null,
   "metadata": {},
   "outputs": [],
   "source": []
  },
  {
   "cell_type": "code",
   "execution_count": null,
   "metadata": {},
   "outputs": [],
   "source": []
  }
 ],
 "metadata": {
  "kernelspec": {
   "display_name": "Python 3",
   "language": "python",
   "name": "python3"
  },
  "language_info": {
   "codemirror_mode": {
    "name": "ipython",
    "version": 3
   },
   "file_extension": ".py",
   "mimetype": "text/x-python",
   "name": "python",
   "nbconvert_exporter": "python",
   "pygments_lexer": "ipython3",
   "version": "3.7.3"
  }
 },
 "nbformat": 4,
 "nbformat_minor": 2
}
